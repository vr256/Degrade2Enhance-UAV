{
 "cells": [
  {
   "cell_type": "code",
   "execution_count": 1,
   "metadata": {},
   "outputs": [],
   "source": [
    "import os\n",
    "\n",
    "from src import Config, GUI, split_images, degrade_all_images"
   ]
  },
  {
   "cell_type": "markdown",
   "metadata": {},
   "source": [
    "### Specifying data directory\n",
    "If your `.env` file does not specify `DATAPATH`, replace `image_dir` with an absolute path to the desired data directory.\n",
    "\n",
    "[The dataset is available at Kaggle](https://www.kaggle.com/datasets/vr256x/degrade2enhance-uav)"
   ]
  },
  {
   "cell_type": "code",
   "execution_count": 2,
   "metadata": {},
   "outputs": [],
   "source": [
    "data_dir = os.environ.get('DATAPATH')\n",
    "image_dir = os.path.join(data_dir, 'raw', 'combined_aerial', '256')\n",
    "config = Config(image_dir, artifact_prob=0.4)\n",
    "gui = GUI(config)"
   ]
  },
  {
   "cell_type": "markdown",
   "metadata": {},
   "source": [
    "### Adjusting degradation parameters\n",
    "Keep in mind that the pipeline is stochastic, i.e. meaning each type of artifact is applied with a specified probability only when corresponding `Enabled` is selected."
   ]
  },
  {
   "cell_type": "code",
   "execution_count": 3,
   "metadata": {},
   "outputs": [
    {
     "data": {
      "application/vnd.jupyter.widget-view+json": {
       "model_id": "4d28d1a9ef6146aca067bd4784f67634",
       "version_major": 2,
       "version_minor": 0
      },
      "text/plain": [
       "VBox(children=(HBox(children=(Label(value='Noise', layout=Layout(width='100px')), Checkbox(value=True, descrip…"
      ]
     },
     "metadata": {},
     "output_type": "display_data"
    },
    {
     "data": {
      "application/vnd.jupyter.widget-view+json": {
       "model_id": "b71e67d8f35f458182c326c21224a361",
       "version_major": 2,
       "version_minor": 0
      },
      "text/plain": [
       "HBox(children=(Output(outputs=({'output_type': 'display_data', 'data': {'text/plain': '<Figure size 900x900 wi…"
      ]
     },
     "metadata": {},
     "output_type": "display_data"
    }
   ],
   "source": [
    "gui.display()"
   ]
  },
  {
   "cell_type": "markdown",
   "metadata": {},
   "source": [
    "### Applying to all images\n",
    "The configuration specified above will be applied to all images in the dataset.\n",
    "#### Specifying dir tree structure\n",
    "`source` - path to a folder which contains original images of the same size  \n",
    "`destination` - path to a folder which will be used for further training and will have the following structure:  \n",
    "- `test_input`\n",
    "    - `1.jpg`\n",
    "    - `...`\n",
    "- `test_output`\n",
    "    - `1.jpg`\n",
    "    - `...`\n",
    "- `train_input`\n",
    "    - `101.jpg`\n",
    "    - `...`\n",
    "- `train__output`\n",
    "    - `101.jpg`\n",
    "    - `...`\n",
    "\n",
    "\n",
    "This way, input images in the destination folder are degraded versions of the corresponding output (GT) images."
   ]
  },
  {
   "cell_type": "code",
   "execution_count": 4,
   "metadata": {},
   "outputs": [],
   "source": [
    "split_images(source=os.path.join(data_dir, 'raw', 'combined_aerial', '256'),\n",
    "             destination=os.path.join(data_dir, 'structured', 'degraded_combined_aerial', '256'),\n",
    "             test_size=0.2,\n",
    "             paired_dataset=True)"
   ]
  },
  {
   "cell_type": "markdown",
   "metadata": {},
   "source": [
    "#### Degrading images\n",
    "It is recommended to leave ~25% of the images intact to expose the network to cases without any artifacts"
   ]
  },
  {
   "cell_type": "code",
   "execution_count": 5,
   "metadata": {},
   "outputs": [],
   "source": [
    "degrade_all_images(destination=os.path.join(data_dir, 'structured', 'degraded_combined_aerial', '256'),\n",
    "                   config=config,\n",
    "                   leave_intact=0.3)"
   ]
  }
 ],
 "metadata": {
  "kernelspec": {
   "display_name": ".venv",
   "language": "python",
   "name": "python3"
  },
  "language_info": {
   "codemirror_mode": {
    "name": "ipython",
    "version": 3
   },
   "file_extension": ".py",
   "mimetype": "text/x-python",
   "name": "python",
   "nbconvert_exporter": "python",
   "pygments_lexer": "ipython3",
   "version": "3.12.3"
  }
 },
 "nbformat": 4,
 "nbformat_minor": 2
}
